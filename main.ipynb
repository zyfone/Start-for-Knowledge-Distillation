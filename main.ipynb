{
 "cells": [
  {
   "cell_type": "code",
   "execution_count": 21,
   "metadata": {},
   "outputs": [],
   "source": [
    "import torch\n",
    "import torch.nn as nn\n",
    "import torch.nn.functional as F\n",
    "from  torchvision import transforms\n",
    "from torch.utils.data import DataLoader\n",
    "from tqdm import tqdm\n",
    "import torchvision\n",
    "from torchinfo import summary"
   ]
  },
  {
   "cell_type": "code",
   "execution_count": 22,
   "metadata": {},
   "outputs": [],
   "source": [
    "torch.manual_seed(2022)\n",
    "device=torch.device(\"cuda\" if torch.cuda.is_available() else \"cpu\")  #自动选择GPU 没有GPU则自动切换cpu"
   ]
  },
  {
   "cell_type": "code",
   "execution_count": 23,
   "metadata": {},
   "outputs": [],
   "source": [
    "torch.backends.cudnn.benchmark=True"
   ]
  },
  {
   "cell_type": "code",
   "execution_count": 24,
   "metadata": {},
   "outputs": [],
   "source": [
    "train_data=torchvision.datasets.MNIST(\n",
    "    root=\"./\",\n",
    "    train=True,\n",
    "    transform=transforms.ToTensor(),\n",
    "    download=True\n",
    ")\n",
    "\n",
    "test_data=torchvision.datasets.MNIST(\n",
    "    root=\"./\",\n",
    "    train=False,\n",
    "    transform=transforms.ToTensor(),\n",
    "    download=True\n",
    ")\n",
    "\n",
    "train_loader=DataLoader(dataset=train_data,batch_size=100,shuffle=True)\n",
    "test_loader=DataLoader(dataset=test_data,batch_size=100,shuffle=False)"
   ]
  },
  {
   "cell_type": "code",
   "execution_count": 25,
   "metadata": {},
   "outputs": [],
   "source": [
    "class Teacher_model(nn.Module):\n",
    "    def __init__(self,num_class=10):\n",
    "        super(Teacher_model,self).__init__()\n",
    "        self.classfier=nn.Sequential(\n",
    "            nn.Linear(784,1200),\n",
    "            nn.Dropout(0.5),\n",
    "            nn.ReLU(inplace=True),\n",
    "            nn.Linear(1200,1200),\n",
    "            nn.Dropout(0.5),\n",
    "            nn.ReLU(inplace=True),\n",
    "            nn.Linear(1200,num_class)\n",
    "        )\n",
    "    def forward(self,input):\n",
    "        input=input.view(-1,784)\n",
    "        out=self.classfier(input)\n",
    "\n",
    "        return out"
   ]
  },
  {
   "cell_type": "code",
   "execution_count": 26,
   "metadata": {},
   "outputs": [],
   "source": [
    "model=Teacher_model().to(device)"
   ]
  },
  {
   "cell_type": "code",
   "execution_count": 27,
   "metadata": {},
   "outputs": [
    {
     "data": {
      "text/plain": [
       "=================================================================\n",
       "Layer (type:depth-idx)                   Param #\n",
       "=================================================================\n",
       "Teacher_model                            --\n",
       "├─Sequential: 1-1                        --\n",
       "│    └─Linear: 2-1                       942,000\n",
       "│    └─Dropout: 2-2                      --\n",
       "│    └─ReLU: 2-3                         --\n",
       "│    └─Linear: 2-4                       1,441,200\n",
       "│    └─Dropout: 2-5                      --\n",
       "│    └─ReLU: 2-6                         --\n",
       "│    └─Linear: 2-7                       12,010\n",
       "=================================================================\n",
       "Total params: 2,395,210\n",
       "Trainable params: 2,395,210\n",
       "Non-trainable params: 0\n",
       "================================================================="
      ]
     },
     "execution_count": 27,
     "metadata": {},
     "output_type": "execute_result"
    }
   ],
   "source": [
    "summary(model)"
   ]
  },
  {
   "cell_type": "code",
   "execution_count": 28,
   "metadata": {},
   "outputs": [],
   "source": [
    "criterion=nn.CrossEntropyLoss()\n",
    "optimizer=torch.optim.Adam(model.parameters(),lr=1e-4)"
   ]
  },
  {
   "cell_type": "code",
   "execution_count": 29,
   "metadata": {},
   "outputs": [
    {
     "name": "stderr",
     "output_type": "stream",
     "text": [
      "100%|██████████| 600/600 [00:03<00:00, 154.01it/s]\n",
      "  2%|▎         | 15/600 [00:00<00:04, 146.02it/s]"
     ]
    },
    {
     "name": "stdout",
     "output_type": "stream",
     "text": [
      "epoch:1, \t Accuracy:0.9249\n"
     ]
    },
    {
     "name": "stderr",
     "output_type": "stream",
     "text": [
      "100%|██████████| 600/600 [00:03<00:00, 153.43it/s]\n",
      "  2%|▎         | 15/600 [00:00<00:04, 141.89it/s]"
     ]
    },
    {
     "name": "stdout",
     "output_type": "stream",
     "text": [
      "epoch:2, \t Accuracy:0.9457\n"
     ]
    },
    {
     "name": "stderr",
     "output_type": "stream",
     "text": [
      "100%|██████████| 600/600 [00:03<00:00, 153.55it/s]\n",
      "  2%|▎         | 15/600 [00:00<00:03, 148.96it/s]"
     ]
    },
    {
     "name": "stdout",
     "output_type": "stream",
     "text": [
      "epoch:3, \t Accuracy:0.9573\n"
     ]
    },
    {
     "name": "stderr",
     "output_type": "stream",
     "text": [
      "100%|██████████| 600/600 [00:03<00:00, 153.39it/s]\n",
      "  5%|▌         | 30/600 [00:00<00:03, 146.86it/s]"
     ]
    },
    {
     "name": "stdout",
     "output_type": "stream",
     "text": [
      "epoch:4, \t Accuracy:0.9647\n"
     ]
    },
    {
     "name": "stderr",
     "output_type": "stream",
     "text": [
      "100%|██████████| 600/600 [00:03<00:00, 153.20it/s]\n",
      "  2%|▎         | 15/600 [00:00<00:04, 141.90it/s]"
     ]
    },
    {
     "name": "stdout",
     "output_type": "stream",
     "text": [
      "epoch:5, \t Accuracy:0.9685\n"
     ]
    },
    {
     "name": "stderr",
     "output_type": "stream",
     "text": [
      "100%|██████████| 600/600 [00:03<00:00, 153.51it/s]\n"
     ]
    },
    {
     "name": "stdout",
     "output_type": "stream",
     "text": [
      "epoch:6, \t Accuracy:0.9724\n"
     ]
    }
   ],
   "source": [
    "epochs_max=6\n",
    "for epoch in range(epochs_max):\n",
    "    model.train()\n",
    "\n",
    "    for data,target in tqdm(train_loader):\n",
    "        data=data.to(device)\n",
    "        target=target.to(device)\n",
    "\n",
    "        output=model(data)\n",
    "        loss=criterion(output,target)\n",
    "        optimizer.zero_grad()\n",
    "        loss.backward()\n",
    "        optimizer.step()\n",
    "\n",
    "    model.eval()\n",
    "    num_correct=0\n",
    "    num_sample=0\n",
    "\n",
    "    with torch.no_grad():\n",
    "        for x,y in test_loader:\n",
    "            x=x.to(device)\n",
    "            y=y.to(device)\n",
    "\n",
    "            pred=model(x)\n",
    "            pred=pred.max(1).indices\n",
    "            num_correct+=(pred==y).sum()\n",
    "            num_sample+=pred.size(0)\n",
    "        acc=(num_correct/num_sample).item()\n",
    "\n",
    "\n",
    "    print(\"epoch:{}, \\t Accuracy:{:.4f}\".format(epoch+1,acc))\n"
   ]
  },
  {
   "cell_type": "code",
   "execution_count": 30,
   "metadata": {},
   "outputs": [],
   "source": [
    "class Student_model(nn.Module):\n",
    "    def __init__(self,num_class=10):\n",
    "        super(Student_model,self).__init__()\n",
    "        self.classfier=nn.Sequential(\n",
    "            nn.Linear(784,20),\n",
    "            nn.ReLU(inplace=True),\n",
    "            nn.Linear(20,20),\n",
    "            nn.ReLU(inplace=True),\n",
    "            nn.Linear(20,num_class)\n",
    "        )\n",
    "    def forward(self,input):\n",
    "        input=input.view(-1,784)\n",
    "        out=self.classfier(input)\n",
    "\n",
    "        return out"
   ]
  },
  {
   "cell_type": "code",
   "execution_count": 31,
   "metadata": {},
   "outputs": [
    {
     "data": {
      "text/plain": [
       "=================================================================\n",
       "Layer (type:depth-idx)                   Param #\n",
       "=================================================================\n",
       "Student_model                            --\n",
       "├─Sequential: 1-1                        --\n",
       "│    └─Linear: 2-1                       15,700\n",
       "│    └─ReLU: 2-2                         --\n",
       "│    └─Linear: 2-3                       420\n",
       "│    └─ReLU: 2-4                         --\n",
       "│    └─Linear: 2-5                       210\n",
       "=================================================================\n",
       "Total params: 16,330\n",
       "Trainable params: 16,330\n",
       "Non-trainable params: 0\n",
       "================================================================="
      ]
     },
     "execution_count": 31,
     "metadata": {},
     "output_type": "execute_result"
    }
   ],
   "source": [
    "student_model=Student_model().to(device)\n",
    "optimizer=torch.optim.Adam(student_model.parameters(),lr=1e-4)\n",
    "summary(student_model)"
   ]
  },
  {
   "cell_type": "code",
   "execution_count": 32,
   "metadata": {},
   "outputs": [
    {
     "name": "stderr",
     "output_type": "stream",
     "text": [
      "100%|██████████| 600/600 [00:04<00:00, 142.64it/s]\n",
      "  2%|▏         | 14/600 [00:00<00:04, 137.62it/s]"
     ]
    },
    {
     "name": "stdout",
     "output_type": "stream",
     "text": [
      "epoch:1, \t Accuracy:0.6930\n"
     ]
    },
    {
     "name": "stderr",
     "output_type": "stream",
     "text": [
      "100%|██████████| 600/600 [00:03<00:00, 152.97it/s]\n",
      "  2%|▎         | 15/600 [00:00<00:03, 147.93it/s]"
     ]
    },
    {
     "name": "stdout",
     "output_type": "stream",
     "text": [
      "epoch:2, \t Accuracy:0.8228\n"
     ]
    },
    {
     "name": "stderr",
     "output_type": "stream",
     "text": [
      "100%|██████████| 600/600 [00:04<00:00, 145.88it/s]\n",
      "  2%|▏         | 14/600 [00:00<00:04, 134.16it/s]"
     ]
    },
    {
     "name": "stdout",
     "output_type": "stream",
     "text": [
      "epoch:3, \t Accuracy:0.8558\n"
     ]
    },
    {
     "name": "stderr",
     "output_type": "stream",
     "text": [
      "100%|██████████| 600/600 [00:04<00:00, 144.48it/s]\n",
      "  3%|▎         | 16/600 [00:00<00:03, 154.74it/s]"
     ]
    },
    {
     "name": "stdout",
     "output_type": "stream",
     "text": [
      "epoch:4, \t Accuracy:0.8724\n"
     ]
    },
    {
     "name": "stderr",
     "output_type": "stream",
     "text": [
      "100%|██████████| 600/600 [00:03<00:00, 159.95it/s]\n",
      "  2%|▏         | 14/600 [00:00<00:04, 138.99it/s]"
     ]
    },
    {
     "name": "stdout",
     "output_type": "stream",
     "text": [
      "epoch:5, \t Accuracy:0.8818\n"
     ]
    },
    {
     "name": "stderr",
     "output_type": "stream",
     "text": [
      "100%|██████████| 600/600 [00:04<00:00, 143.91it/s]\n"
     ]
    },
    {
     "name": "stdout",
     "output_type": "stream",
     "text": [
      "epoch:6, \t Accuracy:0.8886\n"
     ]
    }
   ],
   "source": [
    "epochs_max=6\n",
    "for epoch in range(epochs_max):\n",
    "    student_model.train()\n",
    "\n",
    "    for data,target in tqdm(train_loader):\n",
    "        data=data.to(device)\n",
    "        target=target.to(device)\n",
    "\n",
    "        output=student_model(data)\n",
    "        loss=criterion(output,target)\n",
    "        optimizer.zero_grad()\n",
    "        loss.backward()\n",
    "        optimizer.step()\n",
    "\n",
    "    student_model.eval()\n",
    "    num_correct=0\n",
    "    num_sample=0\n",
    "\n",
    "    with torch.no_grad():\n",
    "        for x,y in test_loader:\n",
    "            x=x.to(device)\n",
    "            y=y.to(device)\n",
    "\n",
    "            pred=student_model(x)\n",
    "            pred=pred.max(1).indices\n",
    "            num_correct+=(pred==y).sum()\n",
    "            num_sample+=pred.size(0)\n",
    "        acc=(num_correct/num_sample).item()\n",
    "\n",
    "\n",
    "    print(\"epoch:{}, \\t Accuracy:{:.4f}\".format(epoch+1,acc))"
   ]
  },
  {
   "cell_type": "markdown",
   "metadata": {},
   "source": [
    "### Knowldge Distillation way"
   ]
  },
  {
   "cell_type": "code",
   "execution_count": 41,
   "metadata": {},
   "outputs": [],
   "source": [
    "model.eval()\n",
    "\n",
    "student_model.train()\n",
    "\n",
    "temp=9\n",
    "alpha=0.3\n",
    "soft_loss=nn.KLDivLoss(reduction=\"batchmean\")\n",
    "optimizer=torch.optim.Adam(student_model.parameters(),lr=1e-4)"
   ]
  },
  {
   "cell_type": "code",
   "execution_count": 42,
   "metadata": {},
   "outputs": [
    {
     "name": "stderr",
     "output_type": "stream",
     "text": [
      "100%|██████████| 600/600 [00:04<00:00, 148.31it/s]\n",
      "  2%|▏         | 14/600 [00:00<00:04, 136.29it/s]"
     ]
    },
    {
     "name": "stdout",
     "output_type": "stream",
     "text": [
      "epoch:1, \t Accuracy:0.9467\n"
     ]
    },
    {
     "name": "stderr",
     "output_type": "stream",
     "text": [
      "100%|██████████| 600/600 [00:04<00:00, 141.95it/s]\n",
      "  2%|▏         | 13/600 [00:00<00:04, 127.72it/s]"
     ]
    },
    {
     "name": "stdout",
     "output_type": "stream",
     "text": [
      "epoch:2, \t Accuracy:0.9454\n"
     ]
    },
    {
     "name": "stderr",
     "output_type": "stream",
     "text": [
      "100%|██████████| 600/600 [00:04<00:00, 142.39it/s]\n",
      "  2%|▏         | 14/600 [00:00<00:04, 132.86it/s]"
     ]
    },
    {
     "name": "stdout",
     "output_type": "stream",
     "text": [
      "epoch:3, \t Accuracy:0.9457\n"
     ]
    },
    {
     "name": "stderr",
     "output_type": "stream",
     "text": [
      "100%|██████████| 600/600 [00:04<00:00, 140.55it/s]\n",
      "  5%|▍         | 28/600 [00:00<00:04, 134.49it/s]"
     ]
    },
    {
     "name": "stdout",
     "output_type": "stream",
     "text": [
      "epoch:4, \t Accuracy:0.9464\n"
     ]
    },
    {
     "name": "stderr",
     "output_type": "stream",
     "text": [
      "100%|██████████| 600/600 [00:04<00:00, 142.32it/s]\n",
      "  2%|▏         | 14/600 [00:00<00:04, 138.87it/s]"
     ]
    },
    {
     "name": "stdout",
     "output_type": "stream",
     "text": [
      "epoch:5, \t Accuracy:0.9471\n"
     ]
    },
    {
     "name": "stderr",
     "output_type": "stream",
     "text": [
      "100%|██████████| 600/600 [00:04<00:00, 142.10it/s]\n",
      "  2%|▏         | 14/600 [00:00<00:04, 132.00it/s]"
     ]
    },
    {
     "name": "stdout",
     "output_type": "stream",
     "text": [
      "epoch:6, \t Accuracy:0.9471\n"
     ]
    },
    {
     "name": "stderr",
     "output_type": "stream",
     "text": [
      "100%|██████████| 600/600 [00:04<00:00, 142.56it/s]\n",
      "  2%|▏         | 14/600 [00:00<00:04, 134.44it/s]"
     ]
    },
    {
     "name": "stdout",
     "output_type": "stream",
     "text": [
      "epoch:7, \t Accuracy:0.9472\n"
     ]
    },
    {
     "name": "stderr",
     "output_type": "stream",
     "text": [
      "100%|██████████| 600/600 [00:04<00:00, 141.51it/s]\n",
      "  5%|▍         | 28/600 [00:00<00:04, 135.76it/s]"
     ]
    },
    {
     "name": "stdout",
     "output_type": "stream",
     "text": [
      "epoch:8, \t Accuracy:0.9469\n"
     ]
    },
    {
     "name": "stderr",
     "output_type": "stream",
     "text": [
      "100%|██████████| 600/600 [00:04<00:00, 142.66it/s]\n",
      "  2%|▏         | 14/600 [00:00<00:04, 133.17it/s]"
     ]
    },
    {
     "name": "stdout",
     "output_type": "stream",
     "text": [
      "epoch:9, \t Accuracy:0.9471\n"
     ]
    },
    {
     "name": "stderr",
     "output_type": "stream",
     "text": [
      "100%|██████████| 600/600 [00:04<00:00, 141.43it/s]\n",
      "  2%|▏         | 14/600 [00:00<00:04, 135.94it/s]"
     ]
    },
    {
     "name": "stdout",
     "output_type": "stream",
     "text": [
      "epoch:10, \t Accuracy:0.9470\n"
     ]
    },
    {
     "name": "stderr",
     "output_type": "stream",
     "text": [
      "100%|██████████| 600/600 [00:04<00:00, 142.46it/s]\n",
      "  2%|▏         | 14/600 [00:00<00:04, 138.84it/s]"
     ]
    },
    {
     "name": "stdout",
     "output_type": "stream",
     "text": [
      "epoch:11, \t Accuracy:0.9480\n"
     ]
    },
    {
     "name": "stderr",
     "output_type": "stream",
     "text": [
      "100%|██████████| 600/600 [00:04<00:00, 142.37it/s]\n",
      "  2%|▏         | 14/600 [00:00<00:04, 132.80it/s]"
     ]
    },
    {
     "name": "stdout",
     "output_type": "stream",
     "text": [
      "epoch:12, \t Accuracy:0.9478\n"
     ]
    },
    {
     "name": "stderr",
     "output_type": "stream",
     "text": [
      "100%|██████████| 600/600 [00:04<00:00, 142.30it/s]\n",
      "  2%|▏         | 14/600 [00:00<00:04, 135.74it/s]"
     ]
    },
    {
     "name": "stdout",
     "output_type": "stream",
     "text": [
      "epoch:13, \t Accuracy:0.9479\n"
     ]
    },
    {
     "name": "stderr",
     "output_type": "stream",
     "text": [
      "100%|██████████| 600/600 [00:04<00:00, 142.26it/s]\n",
      "  2%|▏         | 13/600 [00:00<00:04, 129.94it/s]"
     ]
    },
    {
     "name": "stdout",
     "output_type": "stream",
     "text": [
      "epoch:14, \t Accuracy:0.9479\n"
     ]
    },
    {
     "name": "stderr",
     "output_type": "stream",
     "text": [
      "100%|██████████| 600/600 [00:04<00:00, 142.52it/s]\n",
      "  2%|▏         | 14/600 [00:00<00:04, 134.38it/s]"
     ]
    },
    {
     "name": "stdout",
     "output_type": "stream",
     "text": [
      "epoch:15, \t Accuracy:0.9474\n"
     ]
    },
    {
     "name": "stderr",
     "output_type": "stream",
     "text": [
      "100%|██████████| 600/600 [00:04<00:00, 141.60it/s]\n",
      "  2%|▏         | 14/600 [00:00<00:04, 133.29it/s]"
     ]
    },
    {
     "name": "stdout",
     "output_type": "stream",
     "text": [
      "epoch:16, \t Accuracy:0.9478\n"
     ]
    },
    {
     "name": "stderr",
     "output_type": "stream",
     "text": [
      "100%|██████████| 600/600 [00:04<00:00, 143.05it/s]\n",
      "  2%|▏         | 14/600 [00:00<00:04, 134.55it/s]"
     ]
    },
    {
     "name": "stdout",
     "output_type": "stream",
     "text": [
      "epoch:17, \t Accuracy:0.9485\n"
     ]
    },
    {
     "name": "stderr",
     "output_type": "stream",
     "text": [
      "100%|██████████| 600/600 [00:04<00:00, 142.16it/s]\n",
      "  2%|▏         | 14/600 [00:00<00:04, 132.26it/s]"
     ]
    },
    {
     "name": "stdout",
     "output_type": "stream",
     "text": [
      "epoch:18, \t Accuracy:0.9489\n"
     ]
    },
    {
     "name": "stderr",
     "output_type": "stream",
     "text": [
      "100%|██████████| 600/600 [00:04<00:00, 138.29it/s]\n",
      "  2%|▏         | 13/600 [00:00<00:04, 128.06it/s]"
     ]
    },
    {
     "name": "stdout",
     "output_type": "stream",
     "text": [
      "epoch:19, \t Accuracy:0.9488\n"
     ]
    },
    {
     "name": "stderr",
     "output_type": "stream",
     "text": [
      "100%|██████████| 600/600 [00:04<00:00, 141.57it/s]\n",
      "  2%|▏         | 14/600 [00:00<00:04, 132.65it/s]"
     ]
    },
    {
     "name": "stdout",
     "output_type": "stream",
     "text": [
      "epoch:20, \t Accuracy:0.9481\n"
     ]
    },
    {
     "name": "stderr",
     "output_type": "stream",
     "text": [
      "100%|██████████| 600/600 [00:04<00:00, 142.23it/s]\n",
      "  2%|▏         | 14/600 [00:00<00:04, 136.14it/s]"
     ]
    },
    {
     "name": "stdout",
     "output_type": "stream",
     "text": [
      "epoch:21, \t Accuracy:0.9484\n"
     ]
    },
    {
     "name": "stderr",
     "output_type": "stream",
     "text": [
      "100%|██████████| 600/600 [00:04<00:00, 142.89it/s]\n",
      "  2%|▏         | 14/600 [00:00<00:04, 132.57it/s]"
     ]
    },
    {
     "name": "stdout",
     "output_type": "stream",
     "text": [
      "epoch:22, \t Accuracy:0.9497\n"
     ]
    },
    {
     "name": "stderr",
     "output_type": "stream",
     "text": [
      "100%|██████████| 600/600 [00:04<00:00, 141.94it/s]\n",
      "  2%|▏         | 13/600 [00:00<00:04, 127.39it/s]"
     ]
    },
    {
     "name": "stdout",
     "output_type": "stream",
     "text": [
      "epoch:23, \t Accuracy:0.9484\n"
     ]
    },
    {
     "name": "stderr",
     "output_type": "stream",
     "text": [
      "100%|██████████| 600/600 [00:04<00:00, 142.31it/s]\n"
     ]
    },
    {
     "name": "stdout",
     "output_type": "stream",
     "text": [
      "epoch:24, \t Accuracy:0.9492\n"
     ]
    }
   ],
   "source": [
    "epochs_max=24\n",
    "for epoch in range(epochs_max):\n",
    "\n",
    "    for data,target in tqdm(train_loader):\n",
    "        data=data.to(device)\n",
    "        target=target.to(device)\n",
    "        with torch.no_grad():\n",
    "            teacher_output=model(data)\n",
    "\n",
    "        output=student_model(data)\n",
    "        loss_hard=criterion(output,target)\n",
    "\n",
    "        distillation_loss=soft_loss(F.softmax(output/temp,dim=1) ,F.softmax(teacher_output/temp,dim=1))\n",
    "\n",
    "        loss=loss_hard*alpha+(1-alpha)*distillation_loss\n",
    "\n",
    "        optimizer.zero_grad()\n",
    "        loss.backward()\n",
    "        optimizer.step()\n",
    "\n",
    "    model.eval()\n",
    "    num_correct=0\n",
    "    num_sample=0\n",
    "\n",
    "    with torch.no_grad():\n",
    "        for x,y in test_loader:\n",
    "            x=x.to(device)\n",
    "            y=y.to(device)\n",
    "\n",
    "            pred=student_model(x)\n",
    "            pred=pred.max(1).indices\n",
    "            num_correct+=(pred==y).sum()\n",
    "            num_sample+=pred.size(0)\n",
    "        acc=(num_correct/num_sample).item()\n",
    "\n",
    "\n",
    "    print(\"epoch:{}, \\t Accuracy:{:.4f}\".format(epoch+1,acc))\n"
   ]
  },
  {
   "cell_type": "code",
   "execution_count": null,
   "metadata": {},
   "outputs": [],
   "source": []
  }
 ],
 "metadata": {
  "kernelspec": {
   "display_name": "Python 3.8.10 ('pytorch')",
   "language": "python",
   "name": "python3"
  },
  "language_info": {
   "codemirror_mode": {
    "name": "ipython",
    "version": 3
   },
   "file_extension": ".py",
   "mimetype": "text/x-python",
   "name": "python",
   "nbconvert_exporter": "python",
   "pygments_lexer": "ipython3",
   "version": "3.8.10"
  },
  "orig_nbformat": 4,
  "vscode": {
   "interpreter": {
    "hash": "0747f93ff6db21b2db2bf35ad4858dd0825b9c21797c41b4cc32097944ab3f10"
   }
  }
 },
 "nbformat": 4,
 "nbformat_minor": 2
}
